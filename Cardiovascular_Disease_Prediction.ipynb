{
 "cells": [
  {
   "cell_type": "markdown",
   "metadata": {},
   "source": [
    "<h1> Modelo Preditivo para Doenças Cardiovasculares </h1>\n",
    "\n",
    "<h1><hr></h1>"
   ]
  },
  {
   "cell_type": "markdown",
   "metadata": {},
   "source": [
    "<h2> Uma breve contextualização </h2>\n",
    "\n",
    "*Texto da introdução*"
   ]
  },
  {
   "cell_type": "code",
   "execution_count": 22,
   "metadata": {},
   "outputs": [],
   "source": [
    "import pandas as pd\n",
    "import numpy as np\n",
    "import seaborn as sns\n",
    "import matplotlib.pyplot as plt\n",
    "%matplotlib inline"
   ]
  },
  {
   "cell_type": "markdown",
   "metadata": {},
   "source": [
    "- `idade`: idade do paciente (em dias)\n",
    "- `altura`: altura do paciente (em centímetros)\n",
    "- `peso`: peso ou massa corporal do paciente(em kg)\n",
    "- `genero`: gênero, em que\n",
    "    - 1: masculino\n",
    "    - 2: feminino\n",
    "- `pa_sist`: Pressão arterial sistólica - recurso de exame\n",
    "- `pa_diast`: Pressão arterial diastólica - recurso de exame\n",
    "- `colesterol`: nível de colesterol, em que:\n",
    "    - 1: normal \n",
    "    - 2: acima do normal \n",
    "    - 3: muito acima normal\n",
    "- `glicose`: Glicose - recurso de exame, em que\n",
    "    - 1: normal\n",
    "    - 2: acima do normal\n",
    "    - 3: muito acima do normal\n",
    "- `fumante`: fumante\n",
    "    - 0: não fumante\n",
    "    - 1: fumante\n",
    "- `alcool`: Ingestão de álcool\n",
    "    - 0: não bebe\n",
    "    - 1: bebe\n",
    "- `a_fisica`: Atividade física\n",
    "    - 0: não praticante\n",
    "    - 1: praticante\n",
    "- `cardio`: Presença ou ausência de doença cardiovascular\n",
    "    - 0: ausente\n",
    "    - 1: presente"
   ]
  },
  {
   "cell_type": "markdown",
   "metadata": {},
   "source": [
    "<h2> Preparando a base de dados </h2>\n",
    "\n",
    "*Textinho explicando toda a manipulação necessária no banco de dados*"
   ]
  },
  {
   "cell_type": "code",
   "execution_count": 12,
   "metadata": {},
   "outputs": [],
   "source": [
    "# Leitura da base de dados:\n",
    "dados = pd.read_csv('./data/cardio_data.csv', delimiter=';')\n",
    "\n",
    "# Tradução dos labels para Português:\n",
    "dados.columns = ['id', 'idade', 'genero', 'altura', 'peso', 'pa_sist', 'pa_diast',\n",
    "                 'colesterol', 'glicose', 'fumante', 'alcool', 'a_fisica', 'cardio']"
   ]
  },
  {
   "cell_type": "code",
   "execution_count": 13,
   "metadata": {},
   "outputs": [
    {
     "data": {
      "text/html": [
       "<div>\n",
       "<style scoped>\n",
       "    .dataframe tbody tr th:only-of-type {\n",
       "        vertical-align: middle;\n",
       "    }\n",
       "\n",
       "    .dataframe tbody tr th {\n",
       "        vertical-align: top;\n",
       "    }\n",
       "\n",
       "    .dataframe thead th {\n",
       "        text-align: right;\n",
       "    }\n",
       "</style>\n",
       "<table border=\"1\" class=\"dataframe\">\n",
       "  <thead>\n",
       "    <tr style=\"text-align: right;\">\n",
       "      <th></th>\n",
       "      <th>id</th>\n",
       "      <th>idade</th>\n",
       "      <th>genero</th>\n",
       "      <th>altura</th>\n",
       "      <th>peso</th>\n",
       "      <th>pa_sist</th>\n",
       "      <th>pa_diast</th>\n",
       "      <th>colesterol</th>\n",
       "      <th>glicose</th>\n",
       "      <th>fumante</th>\n",
       "      <th>alcool</th>\n",
       "      <th>a_fisica</th>\n",
       "      <th>cardio</th>\n",
       "    </tr>\n",
       "  </thead>\n",
       "  <tbody>\n",
       "    <tr>\n",
       "      <th>0</th>\n",
       "      <td>0</td>\n",
       "      <td>18393</td>\n",
       "      <td>2</td>\n",
       "      <td>168</td>\n",
       "      <td>62.0</td>\n",
       "      <td>110</td>\n",
       "      <td>80</td>\n",
       "      <td>1</td>\n",
       "      <td>1</td>\n",
       "      <td>0</td>\n",
       "      <td>0</td>\n",
       "      <td>1</td>\n",
       "      <td>0</td>\n",
       "    </tr>\n",
       "    <tr>\n",
       "      <th>1</th>\n",
       "      <td>1</td>\n",
       "      <td>20228</td>\n",
       "      <td>1</td>\n",
       "      <td>156</td>\n",
       "      <td>85.0</td>\n",
       "      <td>140</td>\n",
       "      <td>90</td>\n",
       "      <td>3</td>\n",
       "      <td>1</td>\n",
       "      <td>0</td>\n",
       "      <td>0</td>\n",
       "      <td>1</td>\n",
       "      <td>1</td>\n",
       "    </tr>\n",
       "    <tr>\n",
       "      <th>2</th>\n",
       "      <td>2</td>\n",
       "      <td>18857</td>\n",
       "      <td>1</td>\n",
       "      <td>165</td>\n",
       "      <td>64.0</td>\n",
       "      <td>130</td>\n",
       "      <td>70</td>\n",
       "      <td>3</td>\n",
       "      <td>1</td>\n",
       "      <td>0</td>\n",
       "      <td>0</td>\n",
       "      <td>0</td>\n",
       "      <td>1</td>\n",
       "    </tr>\n",
       "    <tr>\n",
       "      <th>3</th>\n",
       "      <td>3</td>\n",
       "      <td>17623</td>\n",
       "      <td>2</td>\n",
       "      <td>169</td>\n",
       "      <td>82.0</td>\n",
       "      <td>150</td>\n",
       "      <td>100</td>\n",
       "      <td>1</td>\n",
       "      <td>1</td>\n",
       "      <td>0</td>\n",
       "      <td>0</td>\n",
       "      <td>1</td>\n",
       "      <td>1</td>\n",
       "    </tr>\n",
       "    <tr>\n",
       "      <th>4</th>\n",
       "      <td>4</td>\n",
       "      <td>17474</td>\n",
       "      <td>1</td>\n",
       "      <td>156</td>\n",
       "      <td>56.0</td>\n",
       "      <td>100</td>\n",
       "      <td>60</td>\n",
       "      <td>1</td>\n",
       "      <td>1</td>\n",
       "      <td>0</td>\n",
       "      <td>0</td>\n",
       "      <td>0</td>\n",
       "      <td>0</td>\n",
       "    </tr>\n",
       "  </tbody>\n",
       "</table>\n",
       "</div>"
      ],
      "text/plain": [
       "   id  idade  genero  altura  peso  pa_sist  pa_diast  colesterol  glicose  \\\n",
       "0   0  18393       2     168  62.0      110        80           1        1   \n",
       "1   1  20228       1     156  85.0      140        90           3        1   \n",
       "2   2  18857       1     165  64.0      130        70           3        1   \n",
       "3   3  17623       2     169  82.0      150       100           1        1   \n",
       "4   4  17474       1     156  56.0      100        60           1        1   \n",
       "\n",
       "   fumante  alcool  a_fisica  cardio  \n",
       "0        0       0         1       0  \n",
       "1        0       0         1       1  \n",
       "2        0       0         0       1  \n",
       "3        0       0         1       1  \n",
       "4        0       0         0       0  "
      ]
     },
     "execution_count": 13,
     "metadata": {},
     "output_type": "execute_result"
    }
   ],
   "source": [
    "dados.head()"
   ]
  },
  {
   "cell_type": "code",
   "execution_count": 14,
   "metadata": {},
   "outputs": [
    {
     "data": {
      "text/plain": [
       "id            0\n",
       "idade         0\n",
       "genero        0\n",
       "altura        0\n",
       "peso          0\n",
       "pa_sist       0\n",
       "pa_diast      0\n",
       "colesterol    0\n",
       "glicose       0\n",
       "fumante       0\n",
       "alcool        0\n",
       "a_fisica      0\n",
       "cardio        0\n",
       "dtype: int64"
      ]
     },
     "execution_count": 14,
     "metadata": {},
     "output_type": "execute_result"
    }
   ],
   "source": [
    "# Contando elementos vazios em cada coluna do dataframe\n",
    "dados.isnull().sum()"
   ]
  },
  {
   "cell_type": "code",
   "execution_count": 15,
   "metadata": {},
   "outputs": [],
   "source": [
    "# Converte idade de dias para anos, arredondado para o inteiro inferior\n",
    "dados['idade'] = dados['idade']//365\n",
    "\n",
    "# Converte altura de centímetros para metros\n",
    "dados['altura'] = dados['altura']/100"
   ]
  },
  {
   "cell_type": "code",
   "execution_count": 16,
   "metadata": {},
   "outputs": [
    {
     "name": "stdout",
     "output_type": "stream",
     "text": [
      "<class 'pandas.core.frame.DataFrame'>\n",
      "RangeIndex: 70000 entries, 0 to 69999\n",
      "Data columns (total 13 columns):\n",
      " #   Column      Non-Null Count  Dtype  \n",
      "---  ------      --------------  -----  \n",
      " 0   id          70000 non-null  int64  \n",
      " 1   idade       70000 non-null  int64  \n",
      " 2   genero      70000 non-null  int64  \n",
      " 3   altura      70000 non-null  float64\n",
      " 4   peso        70000 non-null  float64\n",
      " 5   pa_sist     70000 non-null  int64  \n",
      " 6   pa_diast    70000 non-null  int64  \n",
      " 7   colesterol  70000 non-null  int64  \n",
      " 8   glicose     70000 non-null  int64  \n",
      " 9   fumante     70000 non-null  int64  \n",
      " 10  alcool      70000 non-null  int64  \n",
      " 11  a_fisica    70000 non-null  int64  \n",
      " 12  cardio      70000 non-null  int64  \n",
      "dtypes: float64(2), int64(11)\n",
      "memory usage: 6.9 MB\n"
     ]
    }
   ],
   "source": [
    "# mostra o tipo de cada variável (coluna) do dataframe\n",
    "dados.info()"
   ]
  },
  {
   "cell_type": "code",
   "execution_count": 25,
   "metadata": {},
   "outputs": [],
   "source": [
    "# Converte colunas necessárias para categóricas\n",
    "dados['genero'] = dados['genero'].astype('category')\n",
    "dados['colesterol'] = dados['colesterol'].astype('category')\n",
    "dados['glicose'] = dados['glicose'].astype('category')\n",
    "dados['fumante'] = dados['fumante'].astype('category')\n",
    "dados['alcool'] = dados['alcool'].astype('category')\n",
    "dados['a_fisica'] = dados['a_fisica'].astype('category')\n",
    "dados['cardio'] = dados['cardio'].astype('category')"
   ]
  },
  {
   "cell_type": "code",
   "execution_count": 29,
   "metadata": {},
   "outputs": [],
   "source": [
    "# Atribuindo as categorias para cada variável categórica\n",
    "dados['colesterol'].cat.categories = ['normal', 'acima do normal', 'muito acima do normal']\n",
    "dados['glicose'].cat.categories = ['normal', 'acima do normal', 'muito acima do normal']\n",
    "dados['fumante'].cat.categories = ['não fumante', 'fumante']\n",
    "dados['alcool'].cat.categories = ['não bebe', 'bebe']\n",
    "dados['a_fisica'].cat.categories = ['não praticante', 'praticante']\n",
    "dados['genero'].cat.categories = ['masculino', 'feminino']\n",
    "dados['cardio'].cat.categories = ['ausente', 'presente'] # variável target"
   ]
  },
  {
   "cell_type": "code",
   "execution_count": 30,
   "metadata": {},
   "outputs": [],
   "source": [
    "# Atribuindo ordenação às variáveis categóricas ordinais\n",
    "dados['colesterol'] = dados['colesterol'].cat.as_ordered()\n",
    "dados['glicose'] = dados['glicose'].cat.as_ordered()"
   ]
  },
  {
   "cell_type": "code",
   "execution_count": 31,
   "metadata": {},
   "outputs": [
    {
     "data": {
      "text/html": [
       "<div>\n",
       "<style scoped>\n",
       "    .dataframe tbody tr th:only-of-type {\n",
       "        vertical-align: middle;\n",
       "    }\n",
       "\n",
       "    .dataframe tbody tr th {\n",
       "        vertical-align: top;\n",
       "    }\n",
       "\n",
       "    .dataframe thead th {\n",
       "        text-align: right;\n",
       "    }\n",
       "</style>\n",
       "<table border=\"1\" class=\"dataframe\">\n",
       "  <thead>\n",
       "    <tr style=\"text-align: right;\">\n",
       "      <th></th>\n",
       "      <th>id</th>\n",
       "      <th>idade</th>\n",
       "      <th>genero</th>\n",
       "      <th>altura</th>\n",
       "      <th>peso</th>\n",
       "      <th>pa_sist</th>\n",
       "      <th>pa_diast</th>\n",
       "      <th>colesterol</th>\n",
       "      <th>glicose</th>\n",
       "      <th>fumante</th>\n",
       "      <th>alcool</th>\n",
       "      <th>a_fisica</th>\n",
       "      <th>cardio</th>\n",
       "    </tr>\n",
       "  </thead>\n",
       "  <tbody>\n",
       "    <tr>\n",
       "      <th>0</th>\n",
       "      <td>0</td>\n",
       "      <td>50</td>\n",
       "      <td>feminino</td>\n",
       "      <td>1.68</td>\n",
       "      <td>62.0</td>\n",
       "      <td>110</td>\n",
       "      <td>80</td>\n",
       "      <td>normal</td>\n",
       "      <td>normal</td>\n",
       "      <td>não fumante</td>\n",
       "      <td>não bebe</td>\n",
       "      <td>praticante</td>\n",
       "      <td>ausente</td>\n",
       "    </tr>\n",
       "    <tr>\n",
       "      <th>1</th>\n",
       "      <td>1</td>\n",
       "      <td>55</td>\n",
       "      <td>masculino</td>\n",
       "      <td>1.56</td>\n",
       "      <td>85.0</td>\n",
       "      <td>140</td>\n",
       "      <td>90</td>\n",
       "      <td>muito acima do normal</td>\n",
       "      <td>normal</td>\n",
       "      <td>não fumante</td>\n",
       "      <td>não bebe</td>\n",
       "      <td>praticante</td>\n",
       "      <td>presente</td>\n",
       "    </tr>\n",
       "    <tr>\n",
       "      <th>2</th>\n",
       "      <td>2</td>\n",
       "      <td>51</td>\n",
       "      <td>masculino</td>\n",
       "      <td>1.65</td>\n",
       "      <td>64.0</td>\n",
       "      <td>130</td>\n",
       "      <td>70</td>\n",
       "      <td>muito acima do normal</td>\n",
       "      <td>normal</td>\n",
       "      <td>não fumante</td>\n",
       "      <td>não bebe</td>\n",
       "      <td>não praticante</td>\n",
       "      <td>presente</td>\n",
       "    </tr>\n",
       "    <tr>\n",
       "      <th>3</th>\n",
       "      <td>3</td>\n",
       "      <td>48</td>\n",
       "      <td>feminino</td>\n",
       "      <td>1.69</td>\n",
       "      <td>82.0</td>\n",
       "      <td>150</td>\n",
       "      <td>100</td>\n",
       "      <td>normal</td>\n",
       "      <td>normal</td>\n",
       "      <td>não fumante</td>\n",
       "      <td>não bebe</td>\n",
       "      <td>praticante</td>\n",
       "      <td>presente</td>\n",
       "    </tr>\n",
       "    <tr>\n",
       "      <th>4</th>\n",
       "      <td>4</td>\n",
       "      <td>47</td>\n",
       "      <td>masculino</td>\n",
       "      <td>1.56</td>\n",
       "      <td>56.0</td>\n",
       "      <td>100</td>\n",
       "      <td>60</td>\n",
       "      <td>normal</td>\n",
       "      <td>normal</td>\n",
       "      <td>não fumante</td>\n",
       "      <td>não bebe</td>\n",
       "      <td>não praticante</td>\n",
       "      <td>ausente</td>\n",
       "    </tr>\n",
       "  </tbody>\n",
       "</table>\n",
       "</div>"
      ],
      "text/plain": [
       "   id  idade     genero  altura  peso  pa_sist  pa_diast  \\\n",
       "0   0     50   feminino    1.68  62.0      110        80   \n",
       "1   1     55  masculino    1.56  85.0      140        90   \n",
       "2   2     51  masculino    1.65  64.0      130        70   \n",
       "3   3     48   feminino    1.69  82.0      150       100   \n",
       "4   4     47  masculino    1.56  56.0      100        60   \n",
       "\n",
       "              colesterol glicose      fumante    alcool        a_fisica  \\\n",
       "0                 normal  normal  não fumante  não bebe      praticante   \n",
       "1  muito acima do normal  normal  não fumante  não bebe      praticante   \n",
       "2  muito acima do normal  normal  não fumante  não bebe  não praticante   \n",
       "3                 normal  normal  não fumante  não bebe      praticante   \n",
       "4                 normal  normal  não fumante  não bebe  não praticante   \n",
       "\n",
       "     cardio  \n",
       "0   ausente  \n",
       "1  presente  \n",
       "2  presente  \n",
       "3  presente  \n",
       "4   ausente  "
      ]
     },
     "execution_count": 31,
     "metadata": {},
     "output_type": "execute_result"
    }
   ],
   "source": [
    "dados.head()"
   ]
  },
  {
   "cell_type": "markdown",
   "metadata": {},
   "source": [
    "<h2 class=\"analise_exploratoria\"> Análise Exploratória dos dados </h2>"
   ]
  },
  {
   "cell_type": "code",
   "execution_count": 21,
   "metadata": {},
   "outputs": [
    {
     "data": {
      "text/plain": [
       "(array([0, 1, 2]), <a list of 3 Text xticklabel objects>)"
      ]
     },
     "execution_count": 21,
     "metadata": {},
     "output_type": "execute_result"
    },
    {
     "data": {
      "image/png": "[encoded data removed]",
      "text/plain": [
       "<Figure size 360x360 with 1 Axes>"
      ]
     },
     "metadata": {
      "needs_background": "light"
     },
     "output_type": "display_data"
    }
   ],
   "source": [
    "# Só fazendo alguns testes aqui :D\n",
    "sns.catplot(x='colesterol', kind='count', data=dados)\n",
    "plt.xticks(rotation=-20)\n"
   ]
  },
  {
   "cell_type": "code",
   "execution_count": null,
   "metadata": {},
   "outputs": [],
   "source": []
  },
  {
   "cell_type": "code",
   "execution_count": null,
   "metadata": {},
   "outputs": [],
   "source": []
  },
  {
   "cell_type": "code",
   "execution_count": null,
   "metadata": {},
   "outputs": [],
   "source": []
  },
  {
   "cell_type": "markdown",
   "metadata": {},
   "source": [
    "<h2> Referências </h2>\n",
    "\n",
    "https://www.kaggle.com/sulianova/cardiovascular-disease-dataset"
   ]
  }
 ],
 "metadata": {
  "kernelspec": {
   "display_name": "Python 3",
   "language": "python",
   "name": "python3"
  },
  "language_info": {
   "codemirror_mode": {
    "name": "ipython",
    "version": 3
   },
   "file_extension": ".py",
   "mimetype": "text/x-python",
   "name": "python",
   "nbconvert_exporter": "python",
   "pygments_lexer": "ipython3",
   "version": "3.7.6"
  }
 },
 "nbformat": 4,
 "nbformat_minor": 4
}
